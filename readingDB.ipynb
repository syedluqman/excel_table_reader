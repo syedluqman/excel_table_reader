{
 "cells": [
  {
   "cell_type": "code",
   "execution_count": 4,
   "metadata": {},
   "outputs": [
    {
     "name": "stdout",
     "output_type": "stream",
     "text": [
      "Connected to SQLite\n",
      "List of tables\n",
      "\n",
      "[('Sheet 1_Sheet1',), ('Sheet 1_Sheet2',), ('Sheet 1_Sheet3',), ('Sheet 2_Sheet1',), ('Sheet 2_Sheet2',), ('Sheet 2_Sheet3',), ('spreadsheet 1_Sheet1',), ('spreadsheet 1_Sheet2',), ('spreadsheet 1_Sheet3',), ('spreadsheet 2_Sheet1',), ('spreadsheet 2_Sheet2',), ('spreadsheet 2_Sheet3',), ('my sheet 3.xls_Sheet1',), ('my sheet 3.xls_Sheet2',), ('my sheet 3.xls_Sheet3',)]\n",
      "the sqlite connection is closed\n"
     ]
    }
   ],
   "source": [
    "# Importing Sqlite3 Module\n",
    "import sqlite3\n",
    " \n",
    "try:\n",
    "     \n",
    "    # Making a connection between sqlite3\n",
    "    # database and Python Program\n",
    "    sqliteConnection = sqlite3.connect('D:\\Excel Code\\excel collated.db')\n",
    "     \n",
    "    # If sqlite3 makes a connection with python\n",
    "    # program then it will print \"Connected to SQLite\"\n",
    "    # Otherwise it will show errors\n",
    "    print(\"Connected to SQLite\")\n",
    " \n",
    "    # Getting all tables from sqlite_master\n",
    "    sql_query = \"\"\"SELECT name FROM sqlite_master\n",
    "    WHERE type='table';\"\"\"\n",
    " \n",
    "    # Creating cursor object using connection object\n",
    "    cursor = sqliteConnection.cursor()\n",
    "     \n",
    "    # executing our sql query\n",
    "    cursor.execute(sql_query)\n",
    "    print(\"List of tables\\n\")\n",
    "     \n",
    "    # printing all tables list\n",
    "    print(cursor.fetchall())\n",
    " \n",
    "except sqlite3.Error as error:\n",
    "    print(\"Failed to execute the above query\", error)\n",
    "     \n",
    "finally:\n",
    "   \n",
    "    # Inside Finally Block, If connection is\n",
    "    # open, we need to close it\n",
    "    if sqliteConnection:\n",
    "         \n",
    "        # using close() method, we will close\n",
    "        # the connection\n",
    "        sqliteConnection.close()\n",
    "         \n",
    "        # After closing connection object, we\n",
    "        # will print \"the sqlite connection is\n",
    "        # closed\"\n",
    "        print(\"the sqlite connection is closed\")"
   ]
  },
  {
   "cell_type": "code",
   "execution_count": 8,
   "metadata": {},
   "outputs": [
    {
     "name": "stdout",
     "output_type": "stream",
     "text": [
      "(0, None, None, None, None, None)\n",
      "(1, None, None, None, None, None)\n",
      "(2, None, None, 'Date', 'First Column', 'Second column')\n",
      "(3, None, None, '2023-11-01 00:00:00', '36', '30')\n",
      "(4, None, None, '2023-12-05 00:00:00', '65', '12')\n",
      "(5, None, None, '2023-12-18 00:00:00', '74', '33')\n",
      "(6, None, None, '2024-01-28 00:00:00', '73', '32')\n",
      "(7, None, None, '2024-02-03 00:00:00', '5', '79')\n",
      "(8, None, None, '2024-04-15 00:00:00', '22', '99')\n",
      "(9, None, None, '2024-06-03 00:00:00', '47', '42')\n",
      "(10, None, None, '2024-07-30 00:00:00', '90', '14')\n",
      "(11, None, None, '2024-09-07 00:00:00', '16', '83')\n",
      "(12, None, None, '2024-10-07 00:00:00', '64', '72')\n"
     ]
    }
   ],
   "source": [
    "import sqlite3\n",
    "\n",
    "# Create a SQL connection to our SQLite database\n",
    "con = sqlite3.connect(\"D:\\Excel Code\\excel collated.db\")\n",
    "\n",
    "cur = con.cursor()\n",
    "\n",
    "# The result of a \"cursor.execute\" can be iterated over by row\n",
    "for row in cur.execute(\"SELECT * FROM 'Sheet 1_Sheet2';\"):\n",
    "    print(row)\n",
    "\n",
    "# Be sure to close the connection\n",
    "con.close()"
   ]
  },
  {
   "cell_type": "code",
   "execution_count": null,
   "metadata": {},
   "outputs": [],
   "source": []
  }
 ],
 "metadata": {
  "kernelspec": {
   "display_name": "Python 3",
   "language": "python",
   "name": "python3"
  },
  "language_info": {
   "codemirror_mode": {
    "name": "ipython",
    "version": 3
   },
   "file_extension": ".py",
   "mimetype": "text/x-python",
   "name": "python",
   "nbconvert_exporter": "python",
   "pygments_lexer": "ipython3",
   "version": "3.11.1"
  },
  "orig_nbformat": 4,
  "vscode": {
   "interpreter": {
    "hash": "69a691809fd07c20cbb5439d1dcb29005e2be58aa9fb26af5d6308dd81ade1a4"
   }
  }
 },
 "nbformat": 4,
 "nbformat_minor": 2
}
